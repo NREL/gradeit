{
 "metadata": {
  "language_info": {
   "codemirror_mode": {
    "name": "ipython",
    "version": 3
   },
   "file_extension": ".py",
   "mimetype": "text/x-python",
   "name": "python",
   "nbconvert_exporter": "python",
   "pygments_lexer": "ipython3",
   "version": "3.7.3-final"
  },
  "orig_nbformat": 2,
  "kernelspec": {
   "name": "python3",
   "display_name": "Python 3.7.3 64-bit ('gradeit': conda)",
   "metadata": {
    "interpreter": {
     "hash": "d7f9c3a855718cf779635d7d8a0b1822793f7fce70fc30d8251a70d9f16ed3da"
    }
   }
  }
 },
 "nbformat": 4,
 "nbformat_minor": 2,
 "cells": [
  {
   "cell_type": "code",
   "execution_count": 1,
   "metadata": {},
   "outputs": [],
   "source": [
    "import sys\n",
    "import numpy as np\n",
    "import pandas as pd\n",
    "import time\n",
    "import matplotlib.pyplot as plt\n",
    "\n",
    "from gradeit.gradeit import gradeit"
   ]
  },
  {
   "source": [
    "## Quick Start\n",
    "\n",
    "If you only 10's or 100's of GPS points requiring elevation and grade, GradeIT can point to the USGS web-api to obtain raw elevation information. This allows the user to run GradeIT \"out-of-the-box\" without accessing any supplemental data. However, the web-api is rate limited and network latency can slow the process quite a bit, __so this method is not advised for greater than ~100 points__.\n",
    "\n",
    "In the resulting dataframe, the user is like most interested in the ```elevation_ft_filtered``` and ```grade_dec_filtered``` columns."
   ],
   "cell_type": "markdown",
   "metadata": {}
  },
  {
   "cell_type": "code",
   "execution_count": 2,
   "metadata": {},
   "outputs": [
    {
     "output_type": "stream",
     "name": "stdout",
     "text": [
      "Default SG computed: 5\nCPU times: user 422 ms, sys: 36.3 ms, total: 459 ms\nWall time: 12.2 s\n"
     ]
    }
   ],
   "source": [
    "%%time\n",
    "# sample data\n",
    "data = pd.DataFrame()\n",
    "data['lat'] = np.linspace(39.702730, 39.595368, 20)\n",
    "data['lon'] = np.linspace(-105.245678, -105.109049, 20)\n",
    "\n",
    "# append elevation and grade from the USGS web-api\n",
    "df_grade= gradeit(df=data, lat_col='lat', lon_col='lon', filtering=True, source='usgs-api')"
   ]
  },
  {
   "cell_type": "code",
   "execution_count": 6,
   "metadata": {},
   "outputs": [
    {
     "output_type": "execute_result",
     "data": {
      "text/plain": [
       "         lat         lon  elevation_ft  cumulative_original_distance_ft  \\\n",
       "0  39.702730 -105.245678       7048.15                         0.000000   \n",
       "1  39.697079 -105.238487       6967.24                      3089.370178   \n",
       "2  39.691429 -105.231296       7279.30                      6178.838780   \n",
       "3  39.685778 -105.224105       7190.00                      9268.373000   \n",
       "4  39.680127 -105.216914       7029.91                     12357.972836   \n",
       "\n",
       "   cumulative_uniform_distance_ft  elevation_ft_filtered  grade_dec_filtered  \\\n",
       "0                        0.000000            7191.599705              0.0000   \n",
       "1                     3090.017712            7147.163643             -0.0144   \n",
       "2                     6180.035424            7056.871259             -0.0292   \n",
       "3                     9270.053135            6929.655315             -0.0412   \n",
       "4                    12360.070847            6774.448571             -0.0502   \n",
       "\n",
       "   distance_ft_filtered  distance_ft_unfiltered  grade_dec_unfiltered  \n",
       "0              0.000000                0.000000                0.0000  \n",
       "1           3089.370178             3089.370178               -0.0262  \n",
       "2           3089.468603             3089.468603                0.1010  \n",
       "3           3089.534220             3089.534220               -0.0289  \n",
       "4           3089.599836             3089.599836               -0.0518  "
      ],
      "text/html": "<div>\n<style scoped>\n    .dataframe tbody tr th:only-of-type {\n        vertical-align: middle;\n    }\n\n    .dataframe tbody tr th {\n        vertical-align: top;\n    }\n\n    .dataframe thead th {\n        text-align: right;\n    }\n</style>\n<table border=\"1\" class=\"dataframe\">\n  <thead>\n    <tr style=\"text-align: right;\">\n      <th></th>\n      <th>lat</th>\n      <th>lon</th>\n      <th>elevation_ft</th>\n      <th>cumulative_original_distance_ft</th>\n      <th>cumulative_uniform_distance_ft</th>\n      <th>elevation_ft_filtered</th>\n      <th>grade_dec_filtered</th>\n      <th>distance_ft_filtered</th>\n      <th>distance_ft_unfiltered</th>\n      <th>grade_dec_unfiltered</th>\n    </tr>\n  </thead>\n  <tbody>\n    <tr>\n      <th>0</th>\n      <td>39.702730</td>\n      <td>-105.245678</td>\n      <td>7048.15</td>\n      <td>0.000000</td>\n      <td>0.000000</td>\n      <td>7191.599705</td>\n      <td>0.0000</td>\n      <td>0.000000</td>\n      <td>0.000000</td>\n      <td>0.0000</td>\n    </tr>\n    <tr>\n      <th>1</th>\n      <td>39.697079</td>\n      <td>-105.238487</td>\n      <td>6967.24</td>\n      <td>3089.370178</td>\n      <td>3090.017712</td>\n      <td>7147.163643</td>\n      <td>-0.0144</td>\n      <td>3089.370178</td>\n      <td>3089.370178</td>\n      <td>-0.0262</td>\n    </tr>\n    <tr>\n      <th>2</th>\n      <td>39.691429</td>\n      <td>-105.231296</td>\n      <td>7279.30</td>\n      <td>6178.838780</td>\n      <td>6180.035424</td>\n      <td>7056.871259</td>\n      <td>-0.0292</td>\n      <td>3089.468603</td>\n      <td>3089.468603</td>\n      <td>0.1010</td>\n    </tr>\n    <tr>\n      <th>3</th>\n      <td>39.685778</td>\n      <td>-105.224105</td>\n      <td>7190.00</td>\n      <td>9268.373000</td>\n      <td>9270.053135</td>\n      <td>6929.655315</td>\n      <td>-0.0412</td>\n      <td>3089.534220</td>\n      <td>3089.534220</td>\n      <td>-0.0289</td>\n    </tr>\n    <tr>\n      <th>4</th>\n      <td>39.680127</td>\n      <td>-105.216914</td>\n      <td>7029.91</td>\n      <td>12357.972836</td>\n      <td>12360.070847</td>\n      <td>6774.448571</td>\n      <td>-0.0502</td>\n      <td>3089.599836</td>\n      <td>3089.599836</td>\n      <td>-0.0518</td>\n    </tr>\n  </tbody>\n</table>\n</div>"
     },
     "metadata": {},
     "execution_count": 6
    }
   ],
   "source": [
    "df_grade.head()"
   ]
  },
  {
   "source": [
    "## Improved Performance\n",
    "\n",
    "GradeIT can obtain raw elevation data from the USGS web-api, but this can be quite slow and has severe limitations if the user is appending elevation and grade data to a large dataset. A better option is to point GradeIT to a local version of the USGS raster database. The full database is ~500GB, so it is not convenient or advisable to try to store this on a laptop, but rather a network storage location or a high-performance computer.\n",
    "\n",
    "In this example, I have just copied the specific tile from the raster DB to my local machine (a bit of a hack). Note that elevation and grade are being appended for an order of magnitude more points here and it takes under 1 second, compared to over 10 seconds using the web-api with an order of magnitude few points. The main project [README](https://github.com/NREL/gradeit) provides a link to USGS data available for download. - at this time, documentation is lacking for how to replicate your own local database, feel free to open an issue if you have a project need and GradeIT contributors will be happy to help. "
   ],
   "cell_type": "markdown",
   "metadata": {}
  },
  {
   "cell_type": "code",
   "execution_count": 5,
   "metadata": {},
   "outputs": [
    {
     "output_type": "stream",
     "name": "stdout",
     "text": [
      "Default SG computed: 43\nCPU times: user 336 ms, sys: 449 ms, total: 785 ms\nWall time: 851 ms\n"
     ]
    }
   ],
   "source": [
    "%%time\n",
    "raster_path = '../raster-local/NED_13/'\n",
    "\n",
    "# sample data\n",
    "data = pd.DataFrame()\n",
    "data['lat'] = np.linspace(39.702730, 39.595368, 200)\n",
    "data['lon'] = np.linspace(-105.245678, -105.109049, 200)\n",
    "\n",
    "\n",
    "df_grade= gradeit(df=data, lat_col='lat', lon_col='lon', filtering=True, source='usgs-local', usgs_db_path=raster_path)"
   ]
  }
 ]
}