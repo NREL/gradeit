{
 "cells": [
  {
   "cell_type": "markdown",
   "metadata": {},
   "source": [
    "# GradeIT Demo"
   ]
  },
  {
   "cell_type": "code",
   "execution_count": 6,
   "metadata": {},
   "outputs": [],
   "source": [
    "import gradeit.gradeit as gradeit\n",
    "import numpy as np\n",
    "from pprint import pprint"
   ]
  },
  {
   "cell_type": "markdown",
   "metadata": {},
   "source": [
    "## Primary Functionality - The gradeit function\n",
    "The gradeit function provides elevation in feet, grade in percent (not yet implemented,) and source metadata."
   ]
  },
  {
   "cell_type": "markdown",
   "metadata": {},
   "source": [
    "## Inputs"
   ]
  },
  {
   "cell_type": "markdown",
   "metadata": {},
   "source": [
    "#### Coordinate pairs (latitude, longitude)\n",
    "The coordinate parameter must be in the form of an iterable of iterables. Common iterables in Python include lists, tuples, and numpy arrays."
   ]
  },
  {
   "cell_type": "markdown",
   "metadata": {},
   "source": [
    "Here we create some test latitude and longitude numpy arrays."
   ]
  },
  {
   "cell_type": "code",
   "execution_count": 11,
   "metadata": {},
   "outputs": [],
   "source": [
    "lats = np.linspace(35.5, 35.6, 10)\n",
    "lons = np.linspace(-105.5, -105.6, 10)"
   ]
  },
  {
   "cell_type": "markdown",
   "metadata": {},
   "source": [
    "Then, we can use the built-in zip function and a type-cast to generate a list of tuples."
   ]
  },
  {
   "cell_type": "code",
   "execution_count": 11,
   "metadata": {},
   "outputs": [
    {
     "name": "stdout",
     "output_type": "stream",
     "text": [
      "'Input Coordinates'\n",
      "[(35.5, -105.5),\n",
      " (35.51111111111111, -105.5111111111111),\n",
      " (35.522222222222226, -105.52222222222223),\n",
      " (35.53333333333333, -105.53333333333333),\n",
      " (35.544444444444444, -105.54444444444444),\n",
      " (35.55555555555556, -105.55555555555556),\n",
      " (35.56666666666667, -105.56666666666666),\n",
      " (35.577777777777776, -105.57777777777777),\n",
      " (35.58888888888889, -105.58888888888889),\n",
      " (35.6, -105.6)]\n"
     ]
    }
   ],
   "source": [
    "coords = list(zip(lats, lons))\n",
    "pprint('Input Coordinates')\n",
    "pprint(coords)"
   ]
  },
  {
   "cell_type": "markdown",
   "metadata": {},
   "source": [
    "#### Source\n",
    "The source keyword parameter excepts two arguments.<br>\n",
    "<b>\"usgs-api\"</b> - sources elevation data from an elevation API provided by the US Geological Survey<br>\n",
    "<b>\"arnaud-server\"</b> - sources elevation data from an elevation raster database housed on NREL's Arnaud server"
   ]
  },
  {
   "cell_type": "markdown",
   "metadata": {},
   "source": [
    "#### USGS API"
   ]
  },
  {
   "cell_type": "code",
   "execution_count": 12,
   "metadata": {},
   "outputs": [
    {
     "name": "stdout",
     "output_type": "stream",
     "text": [
      "'USGS API'\n",
      "{'elevation': (7388.61,\n",
      "               7892.66,\n",
      "               7683.06,\n",
      "               7945.3,\n",
      "               7842.97,\n",
      "               7789.46,\n",
      "               7630.65,\n",
      "               7515.86,\n",
      "               7669.36,\n",
      "               8125.24),\n",
      " 'grade': (205.17,\n",
      "           850.08,\n",
      "           685.52,\n",
      "           598.61,\n",
      "           950.58,\n",
      "           527.12,\n",
      "           320.45,\n",
      "           993.99,\n",
      "           752.78,\n",
      "           688.28),\n",
      " 'source': 'usgs-api'}\n"
     ]
    }
   ],
   "source": [
    "results = gradeit.gradeit(coords, source='usgs-api')\n",
    "pprint('USGS API')\n",
    "pprint(results)"
   ]
  },
  {
   "cell_type": "markdown",
   "metadata": {},
   "source": [
    "#### Arnaud Database"
   ]
  },
  {
   "cell_type": "code",
   "execution_count": 13,
   "metadata": {},
   "outputs": [
    {
     "name": "stdout",
     "output_type": "stream",
     "text": [
      "'\\nArnaud raster database'\n",
      "{'elevation': [7369.990547109375,\n",
      "               7895.217307119141,\n",
      "               7689.22525015625,\n",
      "               7948.333914482422,\n",
      "               7844.1247922070315,\n",
      "               7796.579044755859,\n",
      "               7611.410229365234,\n",
      "               7513.959028740234,\n",
      "               7652.608961152344,\n",
      "               8128.1617530371095],\n",
      " 'grade': (899.24,\n",
      "           937.38,\n",
      "           25.15,\n",
      "           376.35,\n",
      "           985.14,\n",
      "           712.42,\n",
      "           955.02,\n",
      "           385.0,\n",
      "           532.2,\n",
      "           747.47),\n",
      " 'source': 'arnaud-server'}\n"
     ]
    }
   ],
   "source": [
    "results = gradeit.gradeit(coords, source='arnaud-server')\n",
    "pprint('\\nArnaud raster database')\n",
    "pprint(results)"
   ]
  },
  {
   "cell_type": "markdown",
   "metadata": {},
   "source": [
    "### Performance of the gradeit function"
   ]
  },
  {
   "cell_type": "markdown",
   "metadata": {},
   "source": [
    "#### USGS API"
   ]
  },
  {
   "cell_type": "code",
   "execution_count": 16,
   "metadata": {},
   "outputs": [
    {
     "name": "stdout",
     "output_type": "stream",
     "text": [
      "CPU times: user 181 ms, sys: 5.58 ms, total: 186 ms\n",
      "Wall time: 3.63 s\n"
     ]
    }
   ],
   "source": [
    "%time results = gradeit.gradeit(coords, source='usgs-api')"
   ]
  },
  {
   "cell_type": "markdown",
   "metadata": {},
   "source": [
    "#### Arnaud Database"
   ]
  },
  {
   "cell_type": "code",
   "execution_count": 17,
   "metadata": {},
   "outputs": [
    {
     "name": "stdout",
     "output_type": "stream",
     "text": [
      "CPU times: user 875 ms, sys: 384 ms, total: 1.26 s\n",
      "Wall time: 1.26 s\n"
     ]
    }
   ],
   "source": [
    "%time results = gradeit.gradeit(coords, source='arnaud-server')"
   ]
  },
  {
   "cell_type": "markdown",
   "metadata": {},
   "source": [
    "## Secondary functionality"
   ]
  }
 ],
 "metadata": {
  "kernelspec": {
   "display_name": "gradeit",
   "language": "python",
   "name": "gradeit"
  },
  "language_info": {
   "codemirror_mode": {
    "name": "ipython",
    "version": 3
   },
   "file_extension": ".py",
   "mimetype": "text/x-python",
   "name": "python",
   "nbconvert_exporter": "python",
   "pygments_lexer": "ipython3",
   "version": "3.7.2"
  }
 },
 "nbformat": 4,
 "nbformat_minor": 2
}
